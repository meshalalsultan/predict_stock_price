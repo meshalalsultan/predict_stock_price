{
  "nbformat": 4,
  "nbformat_minor": 0,
  "metadata": {
    "colab": {
      "name": "predict stock price .ipynb",
      "provenance": [],
      "collapsed_sections": [],
      "include_colab_link": true
    },
    "kernelspec": {
      "name": "python3",
      "display_name": "Python 3"
    },
    "accelerator": "GPU"
  },
  "cells": [
    {
      "cell_type": "markdown",
      "metadata": {
        "id": "view-in-github",
        "colab_type": "text"
      },
      "source": [
        "<a href=\"https://colab.research.google.com/github/meshalalsultan/predict_stock_price/blob/master/predict_stock_price_.ipynb\" target=\"_parent\"><img src=\"https://colab.research.google.com/assets/colab-badge.svg\" alt=\"Open In Colab\"/></a>"
      ]
    },
    {
      "cell_type": "code",
      "metadata": {
        "id": "3Wyp7zh6PGSC",
        "colab_type": "code",
        "colab": {}
      },
      "source": [
        "#This Programm will predict stock price \n",
        "pip install quandl"
      ],
      "execution_count": 0,
      "outputs": []
    },
    {
      "cell_type": "code",
      "metadata": {
        "id": "T4Sp3gxQPhzW",
        "colab_type": "code",
        "colab": {}
      },
      "source": [
        "import numpy as np\n",
        "import pandas as pd\n",
        "from sklearn.linear_model import LinearRegression\n",
        "from sklearn.svm import SVR\n",
        "from sklearn.model_selection import train_test_split\n",
        "import quandl"
      ],
      "execution_count": 0,
      "outputs": []
    },
    {
      "cell_type": "code",
      "metadata": {
        "id": "8rkTrucTO4ff",
        "colab_type": "code",
        "outputId": "5e6449e3-64f6-4447-b4a9-701e4196321b",
        "colab": {
          "base_uri": "https://localhost:8080/",
          "height": 235
        }
      },
      "source": [
        "#Get The stock Data\n",
        "df = quandl.get('WIKI/fb')\n",
        "df.head()"
      ],
      "execution_count": 0,
      "outputs": [
        {
          "output_type": "execute_result",
          "data": {
            "text/html": [
              "<div>\n",
              "<style scoped>\n",
              "    .dataframe tbody tr th:only-of-type {\n",
              "        vertical-align: middle;\n",
              "    }\n",
              "\n",
              "    .dataframe tbody tr th {\n",
              "        vertical-align: top;\n",
              "    }\n",
              "\n",
              "    .dataframe thead th {\n",
              "        text-align: right;\n",
              "    }\n",
              "</style>\n",
              "<table border=\"1\" class=\"dataframe\">\n",
              "  <thead>\n",
              "    <tr style=\"text-align: right;\">\n",
              "      <th></th>\n",
              "      <th>Open</th>\n",
              "      <th>High</th>\n",
              "      <th>Low</th>\n",
              "      <th>Close</th>\n",
              "      <th>Volume</th>\n",
              "      <th>Ex-Dividend</th>\n",
              "      <th>Split Ratio</th>\n",
              "      <th>Adj. Open</th>\n",
              "      <th>Adj. High</th>\n",
              "      <th>Adj. Low</th>\n",
              "      <th>Adj. Close</th>\n",
              "      <th>Adj. Volume</th>\n",
              "    </tr>\n",
              "    <tr>\n",
              "      <th>Date</th>\n",
              "      <th></th>\n",
              "      <th></th>\n",
              "      <th></th>\n",
              "      <th></th>\n",
              "      <th></th>\n",
              "      <th></th>\n",
              "      <th></th>\n",
              "      <th></th>\n",
              "      <th></th>\n",
              "      <th></th>\n",
              "      <th></th>\n",
              "      <th></th>\n",
              "    </tr>\n",
              "  </thead>\n",
              "  <tbody>\n",
              "    <tr>\n",
              "      <th>2012-05-18</th>\n",
              "      <td>42.05</td>\n",
              "      <td>45.00</td>\n",
              "      <td>38.00</td>\n",
              "      <td>38.2318</td>\n",
              "      <td>573576400.0</td>\n",
              "      <td>0.0</td>\n",
              "      <td>1.0</td>\n",
              "      <td>42.05</td>\n",
              "      <td>45.00</td>\n",
              "      <td>38.00</td>\n",
              "      <td>38.2318</td>\n",
              "      <td>573576400.0</td>\n",
              "    </tr>\n",
              "    <tr>\n",
              "      <th>2012-05-21</th>\n",
              "      <td>36.53</td>\n",
              "      <td>36.66</td>\n",
              "      <td>33.00</td>\n",
              "      <td>34.0300</td>\n",
              "      <td>168192700.0</td>\n",
              "      <td>0.0</td>\n",
              "      <td>1.0</td>\n",
              "      <td>36.53</td>\n",
              "      <td>36.66</td>\n",
              "      <td>33.00</td>\n",
              "      <td>34.0300</td>\n",
              "      <td>168192700.0</td>\n",
              "    </tr>\n",
              "    <tr>\n",
              "      <th>2012-05-22</th>\n",
              "      <td>32.61</td>\n",
              "      <td>33.59</td>\n",
              "      <td>30.94</td>\n",
              "      <td>31.0000</td>\n",
              "      <td>101786600.0</td>\n",
              "      <td>0.0</td>\n",
              "      <td>1.0</td>\n",
              "      <td>32.61</td>\n",
              "      <td>33.59</td>\n",
              "      <td>30.94</td>\n",
              "      <td>31.0000</td>\n",
              "      <td>101786600.0</td>\n",
              "    </tr>\n",
              "    <tr>\n",
              "      <th>2012-05-23</th>\n",
              "      <td>31.37</td>\n",
              "      <td>32.50</td>\n",
              "      <td>31.36</td>\n",
              "      <td>32.0000</td>\n",
              "      <td>73600000.0</td>\n",
              "      <td>0.0</td>\n",
              "      <td>1.0</td>\n",
              "      <td>31.37</td>\n",
              "      <td>32.50</td>\n",
              "      <td>31.36</td>\n",
              "      <td>32.0000</td>\n",
              "      <td>73600000.0</td>\n",
              "    </tr>\n",
              "    <tr>\n",
              "      <th>2012-05-24</th>\n",
              "      <td>32.95</td>\n",
              "      <td>33.21</td>\n",
              "      <td>31.77</td>\n",
              "      <td>33.0300</td>\n",
              "      <td>50237200.0</td>\n",
              "      <td>0.0</td>\n",
              "      <td>1.0</td>\n",
              "      <td>32.95</td>\n",
              "      <td>33.21</td>\n",
              "      <td>31.77</td>\n",
              "      <td>33.0300</td>\n",
              "      <td>50237200.0</td>\n",
              "    </tr>\n",
              "  </tbody>\n",
              "</table>\n",
              "</div>"
            ],
            "text/plain": [
              "             Open   High    Low  ...  Adj. Low  Adj. Close  Adj. Volume\n",
              "Date                             ...                                   \n",
              "2012-05-18  42.05  45.00  38.00  ...     38.00     38.2318  573576400.0\n",
              "2012-05-21  36.53  36.66  33.00  ...     33.00     34.0300  168192700.0\n",
              "2012-05-22  32.61  33.59  30.94  ...     30.94     31.0000  101786600.0\n",
              "2012-05-23  31.37  32.50  31.36  ...     31.36     32.0000   73600000.0\n",
              "2012-05-24  32.95  33.21  31.77  ...     31.77     33.0300   50237200.0\n",
              "\n",
              "[5 rows x 12 columns]"
            ]
          },
          "metadata": {
            "tags": []
          },
          "execution_count": 4
        }
      ]
    },
    {
      "cell_type": "code",
      "metadata": {
        "id": "Few8Te_3RtP-",
        "colab_type": "code",
        "colab": {}
      },
      "source": [
        "#Get the adj close price "
      ],
      "execution_count": 0,
      "outputs": []
    },
    {
      "cell_type": "code",
      "metadata": {
        "id": "EiEGb2mkTjSn",
        "colab_type": "code",
        "outputId": "89b88169-2324-474f-9357-7420c353d392",
        "colab": {
          "base_uri": "https://localhost:8080/",
          "height": 136
        }
      },
      "source": [
        "# Get the Adjusted Close Price\n",
        "df = df[['Adj. Close']]\n",
        "#Take a look at the new data\n",
        "print(df.head())"
      ],
      "execution_count": 0,
      "outputs": [
        {
          "output_type": "stream",
          "text": [
            "            Adj. Close\n",
            "Date                  \n",
            "2012-05-18     38.2318\n",
            "2012-05-21     34.0300\n",
            "2012-05-22     31.0000\n",
            "2012-05-23     32.0000\n",
            "2012-05-24     33.0300\n"
          ],
          "name": "stdout"
        }
      ]
    },
    {
      "cell_type": "markdown",
      "metadata": {
        "id": "KolKoWyrVGQA",
        "colab_type": "text"
      },
      "source": [
        "Predict the future \n"
      ]
    },
    {
      "cell_type": "code",
      "metadata": {
        "id": "IqFye6FGUj6N",
        "colab_type": "code",
        "outputId": "75147bd1-e134-47ff-b20c-52dbf069180f",
        "colab": {
          "base_uri": "https://localhost:8080/",
          "height": 238
        }
      },
      "source": [
        "# A variable for predicting 'n' days out into the future\n",
        "forecast_out = 30 #'n=30' days\n",
        "#Create another column (the target or dependent variable) shifted 'n' units up\n",
        "df['Prediction'] = df[['Adj. Close']].shift(-forecast_out)\n",
        "#print the new data set\n",
        "print(df.tail())\n"
      ],
      "execution_count": 0,
      "outputs": [
        {
          "output_type": "stream",
          "text": [
            "            Adj. Close  Prediction\n",
            "Date                              \n",
            "2018-03-21      169.39         NaN\n",
            "2018-03-22      164.89         NaN\n",
            "2018-03-23      159.39         NaN\n",
            "2018-03-26      160.06         NaN\n",
            "2018-03-27      152.19         NaN\n"
          ],
          "name": "stdout"
        },
        {
          "output_type": "stream",
          "text": [
            "/usr/local/lib/python3.6/dist-packages/ipykernel_launcher.py:3: SettingWithCopyWarning: \n",
            "A value is trying to be set on a copy of a slice from a DataFrame.\n",
            "Try using .loc[row_indexer,col_indexer] = value instead\n",
            "\n",
            "See the caveats in the documentation: http://pandas.pydata.org/pandas-docs/stable/user_guide/indexing.html#returning-a-view-versus-a-copy\n",
            "  This is separate from the ipykernel package so we can avoid doing imports until\n"
          ],
          "name": "stderr"
        }
      ]
    },
    {
      "cell_type": "code",
      "metadata": {
        "id": "4cmfsfODa8Q-",
        "colab_type": "code",
        "outputId": "57f0aec5-a3b7-4ef5-f1b2-a131438bde0e",
        "colab": {
          "base_uri": "https://localhost:8080/",
          "height": 136
        }
      },
      "source": [
        "### Create the independent data set (X)  #######\n",
        "# Convert the dataframe to a numpy array\n",
        "X = np.array(df.drop(['Prediction'],1))\n",
        "\n",
        "#Remove the last 'n' rows\n",
        "X = X[:-forecast_out]\n",
        "print(X)"
      ],
      "execution_count": 0,
      "outputs": [
        {
          "output_type": "stream",
          "text": [
            "[[ 38.2318]\n",
            " [ 34.03  ]\n",
            " [ 31.    ]\n",
            " ...\n",
            " [171.5499]\n",
            " [175.98  ]\n",
            " [176.41  ]]\n"
          ],
          "name": "stdout"
        }
      ]
    },
    {
      "cell_type": "code",
      "metadata": {
        "id": "VeYQbjr_a-rq",
        "colab_type": "code",
        "outputId": "28346e14-7ef8-4c1e-e148-f36844fa8eea",
        "colab": {
          "base_uri": "https://localhost:8080/",
          "height": 34
        }
      },
      "source": [
        "\n",
        "### Create the dependent data set (y)  #####\n",
        "# Convert the dataframe to a numpy array (All of the values including the NaN's)\n",
        "y = np.array(df['Prediction'])\n",
        "# Get all of the y values except the last 'n' rows\n",
        "y = y[:-forecast_out]\n",
        "print(y)"
      ],
      "execution_count": 0,
      "outputs": [
        {
          "output_type": "stream",
          "text": [
            "[ 30.771  31.2    31.47  ... 159.39  160.06  152.19 ]\n"
          ],
          "name": "stdout"
        }
      ]
    },
    {
      "cell_type": "code",
      "metadata": {
        "id": "1jeXjVBobE0Z",
        "colab_type": "code",
        "colab": {}
      },
      "source": [
        "# Split the data into 80% training and 20% testing\n",
        "x_train, x_test, y_train, y_test = train_test_split(X, y, test_size=0.2)"
      ],
      "execution_count": 0,
      "outputs": []
    },
    {
      "cell_type": "code",
      "metadata": {
        "id": "EgRZ7hcjbIpj",
        "colab_type": "code",
        "outputId": "8a7f7881-e9c8-47e0-a6d7-86535a513f2f",
        "colab": {
          "base_uri": "https://localhost:8080/",
          "height": 51
        }
      },
      "source": [
        "# Create and train the Support Vector Machine (Regressor)\n",
        "svr_rbf = SVR(kernel='rbf', C=1e3, gamma=0.1)\n",
        "svr_rbf.fit(x_train, y_train)"
      ],
      "execution_count": 0,
      "outputs": [
        {
          "output_type": "execute_result",
          "data": {
            "text/plain": [
              "SVR(C=1000.0, cache_size=200, coef0=0.0, degree=3, epsilon=0.1, gamma=0.1,\n",
              "    kernel='rbf', max_iter=-1, shrinking=True, tol=0.001, verbose=False)"
            ]
          },
          "metadata": {
            "tags": []
          },
          "execution_count": 13
        }
      ]
    },
    {
      "cell_type": "code",
      "metadata": {
        "id": "-yBCYzRWbMnl",
        "colab_type": "code",
        "outputId": "ba4abc77-9ca2-443d-8ad1-36ff847ec0c5",
        "colab": {
          "base_uri": "https://localhost:8080/",
          "height": 34
        }
      },
      "source": [
        "# Testing Model: Score returns the coefficient of determination R^2 of the prediction. \n",
        "# The best possible score is 1.0\n",
        "svm_confidence = svr_rbf.score(x_test, y_test)\n",
        "print(\"svm confidence: \", svm_confidence)"
      ],
      "execution_count": 0,
      "outputs": [
        {
          "output_type": "stream",
          "text": [
            "svm confidence:  0.9746017258931815\n"
          ],
          "name": "stdout"
        }
      ]
    },
    {
      "cell_type": "code",
      "metadata": {
        "id": "8mP3cN-qbSlM",
        "colab_type": "code",
        "outputId": "63f84d8d-670e-404a-f39e-71ca570f504e",
        "colab": {
          "base_uri": "https://localhost:8080/",
          "height": 34
        }
      },
      "source": [
        "# Create and train the Linear Regression  Model\n",
        "lr = LinearRegression()\n",
        "# Train the model\n",
        "lr.fit(x_train, y_train)"
      ],
      "execution_count": 0,
      "outputs": [
        {
          "output_type": "execute_result",
          "data": {
            "text/plain": [
              "LinearRegression(copy_X=True, fit_intercept=True, n_jobs=None, normalize=False)"
            ]
          },
          "metadata": {
            "tags": []
          },
          "execution_count": 15
        }
      ]
    },
    {
      "cell_type": "code",
      "metadata": {
        "id": "WNiH3yabbXxV",
        "colab_type": "code",
        "outputId": "466663e2-2c9b-4714-e1d5-583457821ac5",
        "colab": {
          "base_uri": "https://localhost:8080/",
          "height": 34
        }
      },
      "source": [
        "# Testing Model: Score returns the coefficient of determination R^2 of the prediction. \n",
        "# The best possible score is 1.0\n",
        "lr_confidence = lr.score(x_test, y_test)\n",
        "print(\"lr confidence: \", lr_confidence)"
      ],
      "execution_count": 0,
      "outputs": [
        {
          "output_type": "stream",
          "text": [
            "lr confidence:  0.9795777624468346\n"
          ],
          "name": "stdout"
        }
      ]
    },
    {
      "cell_type": "code",
      "metadata": {
        "id": "NQSWQC6cbbo7",
        "colab_type": "code",
        "outputId": "1c511fee-7ee5-46e2-cb44-3791a1414fad",
        "colab": {
          "base_uri": "https://localhost:8080/",
          "height": 527
        }
      },
      "source": [
        "# Set x_forecast equal to the last 30 rows of the original data set from Adj. Close column\n",
        "x_forecast = np.array(df.drop(['Prediction'],1))[-forecast_out:]\n",
        "print(x_forecast)"
      ],
      "execution_count": 0,
      "outputs": [
        {
          "output_type": "stream",
          "text": [
            "[[173.15]\n",
            " [179.52]\n",
            " [179.96]\n",
            " [177.36]\n",
            " [176.01]\n",
            " [177.91]\n",
            " [178.99]\n",
            " [183.29]\n",
            " [184.93]\n",
            " [181.46]\n",
            " [178.32]\n",
            " [175.94]\n",
            " [176.62]\n",
            " [180.4 ]\n",
            " [179.78]\n",
            " [183.71]\n",
            " [182.34]\n",
            " [185.23]\n",
            " [184.76]\n",
            " [181.88]\n",
            " [184.19]\n",
            " [183.86]\n",
            " [185.09]\n",
            " [172.56]\n",
            " [168.15]\n",
            " [169.39]\n",
            " [164.89]\n",
            " [159.39]\n",
            " [160.06]\n",
            " [152.19]]\n"
          ],
          "name": "stdout"
        }
      ]
    },
    {
      "cell_type": "code",
      "metadata": {
        "id": "tLy2QgD7bgmF",
        "colab_type": "code",
        "outputId": "51dbe5bf-f4f2-47cb-a984-5d8a282ef805",
        "colab": {
          "base_uri": "https://localhost:8080/",
          "height": 221
        }
      },
      "source": [
        "# Print linear regression model predictions for the next 'n' days\n",
        "lr_prediction = lr.predict(x_forecast)\n",
        "print(lr_prediction)\n",
        "\n",
        "# Print support vector regressor model predictions for the next 'n' days\n",
        "svm_prediction = svr_rbf.predict(x_forecast)\n",
        "print(svm_prediction)"
      ],
      "execution_count": 0,
      "outputs": [
        {
          "output_type": "stream",
          "text": [
            "[177.17468237 183.61433936 184.05915084 181.43071941 180.06595694\n",
            " 181.98673375 183.07854373 187.42556493 189.0834986  185.57555358\n",
            " 182.40121717 179.99519148 180.68262739 184.50396231 183.87718251\n",
            " 187.8501577  186.46517652 189.38677914 188.91163962 186.00014635\n",
            " 188.33540657 188.00179797 189.24524822 176.57823063 172.12000656\n",
            " 173.37356616 168.82435793 163.26421453 163.94154109 155.98548136]\n",
            "[174.95791959 179.27935813 178.45675213 175.92189584 174.98329526\n",
            " 177.32824252 179.69417427 186.86780775 179.56785834 181.50391821\n",
            " 178.56172416 174.91730724 175.2342999  177.99003327 178.79674422\n",
            " 184.82231063 186.73295005 179.521827   179.85228828 184.22324417\n",
            " 182.08891196 183.95803892 179.47364908 177.78175052 171.26870713\n",
            " 172.07661708 172.25426338 167.61379069 166.86355384 160.71029172]\n"
          ],
          "name": "stdout"
        }
      ]
    },
    {
      "cell_type": "code",
      "metadata": {
        "id": "Jdl5nVulcMWq",
        "colab_type": "code",
        "colab": {}
      },
      "source": [
        ""
      ],
      "execution_count": 0,
      "outputs": []
    }
  ]
}